{
 "cells": [
  {
   "cell_type": "markdown",
   "id": "d2f0093c",
   "metadata": {},
   "source": [
    "# Predizione del prezzo delle auto\n",
    "\n",
    "**Programmazione di Applicazioni Data Intensive**  \n",
    "Laurea in Ingegneria e Scienze Informatiche  \n",
    "DISI - Università di Bologna, Cesena\n",
    "\n",
    "\n",
    "**Matteucci Andrea**  <br>\n",
    "0000874761   <br> \n",
    "**`andrea.matteucci5@studio.unibo.it`**"
   ]
  },
  {
   "cell_type": "markdown",
   "id": "65b684e0",
   "metadata": {},
   "source": [
    "Citazioni:\n",
    "* Another Dataset on used Fiat 500 https://www.kaggle.com/paolocons/another-fiat-500-dataset-1538-rowsm"
   ]
  },
  {
   "cell_type": "markdown",
   "id": "76a20fb6",
   "metadata": {},
   "source": [
    "## Descrizione del Problema e Comprensione dei Dati\n",
    "In questo progetto si vuole realizzare un modello in grado di predire il prezzo di auto Fiat usate in base ad alcune caratteristiche specifiche come modello, km percorsi, numero di kW del motore e numero di precedenti proprietari."
   ]
  },
  {
   "cell_type": "markdown",
   "id": "1102c603",
   "metadata": {},
   "source": [
    "## Importazione delle librerie\n",
    "\n",
    "Come prima cosa andiamo ad importare le librerie che utilizzeremo:\n",
    "\n",
    "- numpy (operazioni su vettori e matrici N-dimensionali)\n",
    "- pandas (caricamento e la gestione dei dati tabellare)\n",
    "- matplotlib (creazione di diverse tipologie di grafici)\n",
    "- seaborn (per disegnare grafici statistici interessanti e informativ)\n",
    "\n",
    "Consentiamo poi l'inserimento dei grafici direttamente nel notebook con *%matplotlib inline*."
   ]
  },
  {
   "cell_type": "code",
   "execution_count": 2,
   "id": "d0800986",
   "metadata": {},
   "outputs": [],
   "source": [
    "import numpy as np\n",
    "import pandas as pd\n",
    "import matplotlib.pyplot as plt\n",
    "import sklearn\n",
    "from sklearn.metrics import mean_squared_error\n",
    "from sklearn.model_selection import train_test_split\n",
    "from sklearn.linear_model import LinearRegression\n",
    "import seaborn as sb\n",
    "\n",
    "%matplotlib inline"
   ]
  },
  {
   "cell_type": "markdown",
   "id": "4a1cd0cc",
   "metadata": {},
   "source": [
    "## Caricamento del set di dati\n",
    "Si recupera dalla Reposition GitHub il file del dataset\n"
   ]
  },
  {
   "cell_type": "code",
   "execution_count": 41,
   "id": "6c524769",
   "metadata": {},
   "outputs": [],
   "source": [
    "import os.path\n",
    "if not os.path.exists(\"automobile_dot_it_used_fiat_500_in_Italy_dataset_filtered.csv\"):\n",
    "    from urllib.request import urlretrieve\n",
    "    urlretrieve(\"https://raw.githubusercontent.com/AndyMatte99/progetto_data_intensive/main/automobile_dot_it_used_fiat_500_in_Italy_dataset_filtered.csv\", \"automobile_dot_it_used_fiat_500_in_Italy_dataset_filtered.csv\")\n",
    "    \n",
    "    \n",
    "    "
   ]
  },
  {
   "cell_type": "code",
   "execution_count": 4,
   "id": "1520484b",
   "metadata": {},
   "outputs": [],
   "source": [
    "data = pd.read_csv(\"automobile_dot_it_used_fiat_500_in_Italy_dataset_filtered.csv\", sep=\",\")"
   ]
  },
  {
   "cell_type": "code",
   "execution_count": 5,
   "id": "8cb32002",
   "metadata": {},
   "outputs": [
    {
     "data": {
      "text/html": [
       "<div>\n",
       "<style scoped>\n",
       "    .dataframe tbody tr th:only-of-type {\n",
       "        vertical-align: middle;\n",
       "    }\n",
       "\n",
       "    .dataframe tbody tr th {\n",
       "        vertical-align: top;\n",
       "    }\n",
       "\n",
       "    .dataframe thead th {\n",
       "        text-align: right;\n",
       "    }\n",
       "</style>\n",
       "<table border=\"1\" class=\"dataframe\">\n",
       "  <thead>\n",
       "    <tr style=\"text-align: right;\">\n",
       "      <th></th>\n",
       "      <th>model</th>\n",
       "      <th>engine_power</th>\n",
       "      <th>age_in_days</th>\n",
       "      <th>km</th>\n",
       "      <th>previous_owners</th>\n",
       "      <th>lat</th>\n",
       "      <th>lon</th>\n",
       "      <th>price</th>\n",
       "    </tr>\n",
       "  </thead>\n",
       "  <tbody>\n",
       "    <tr>\n",
       "      <th>0</th>\n",
       "      <td>lounge</td>\n",
       "      <td>51</td>\n",
       "      <td>882</td>\n",
       "      <td>25000</td>\n",
       "      <td>1</td>\n",
       "      <td>44.907242</td>\n",
       "      <td>8.611560</td>\n",
       "      <td>8900</td>\n",
       "    </tr>\n",
       "    <tr>\n",
       "      <th>1</th>\n",
       "      <td>pop</td>\n",
       "      <td>51</td>\n",
       "      <td>1186</td>\n",
       "      <td>32500</td>\n",
       "      <td>1</td>\n",
       "      <td>45.666359</td>\n",
       "      <td>12.241890</td>\n",
       "      <td>8800</td>\n",
       "    </tr>\n",
       "    <tr>\n",
       "      <th>2</th>\n",
       "      <td>sport</td>\n",
       "      <td>74</td>\n",
       "      <td>4658</td>\n",
       "      <td>142228</td>\n",
       "      <td>1</td>\n",
       "      <td>45.503300</td>\n",
       "      <td>11.417840</td>\n",
       "      <td>4200</td>\n",
       "    </tr>\n",
       "    <tr>\n",
       "      <th>3</th>\n",
       "      <td>lounge</td>\n",
       "      <td>51</td>\n",
       "      <td>2739</td>\n",
       "      <td>160000</td>\n",
       "      <td>1</td>\n",
       "      <td>40.633171</td>\n",
       "      <td>17.634609</td>\n",
       "      <td>6000</td>\n",
       "    </tr>\n",
       "    <tr>\n",
       "      <th>4</th>\n",
       "      <td>pop</td>\n",
       "      <td>73</td>\n",
       "      <td>3074</td>\n",
       "      <td>106880</td>\n",
       "      <td>1</td>\n",
       "      <td>41.903221</td>\n",
       "      <td>12.495650</td>\n",
       "      <td>5700</td>\n",
       "    </tr>\n",
       "  </tbody>\n",
       "</table>\n",
       "</div>"
      ],
      "text/plain": [
       "    model  engine_power  age_in_days      km  previous_owners        lat  \\\n",
       "0  lounge            51          882   25000                1  44.907242   \n",
       "1     pop            51         1186   32500                1  45.666359   \n",
       "2   sport            74         4658  142228                1  45.503300   \n",
       "3  lounge            51         2739  160000                1  40.633171   \n",
       "4     pop            73         3074  106880                1  41.903221   \n",
       "\n",
       "         lon  price  \n",
       "0   8.611560   8900  \n",
       "1  12.241890   8800  \n",
       "2  11.417840   4200  \n",
       "3  17.634609   6000  \n",
       "4  12.495650   5700  "
      ]
     },
     "execution_count": 5,
     "metadata": {},
     "output_type": "execute_result"
    }
   ],
   "source": [
    "data.head()"
   ]
  },
  {
   "cell_type": "markdown",
   "id": "8ba6a107",
   "metadata": {},
   "source": [
    "## Preprocessing del dataset\n",
    "\n",
    "Iniziamo cambiando nome alle colonne per una migliore comprensione del set di dati."
   ]
  },
  {
   "cell_type": "code",
   "execution_count": 6,
   "id": "bb3783f0",
   "metadata": {},
   "outputs": [
    {
     "data": {
      "text/html": [
       "<div>\n",
       "<style scoped>\n",
       "    .dataframe tbody tr th:only-of-type {\n",
       "        vertical-align: middle;\n",
       "    }\n",
       "\n",
       "    .dataframe tbody tr th {\n",
       "        vertical-align: top;\n",
       "    }\n",
       "\n",
       "    .dataframe thead th {\n",
       "        text-align: right;\n",
       "    }\n",
       "</style>\n",
       "<table border=\"1\" class=\"dataframe\">\n",
       "  <thead>\n",
       "    <tr style=\"text-align: right;\">\n",
       "      <th></th>\n",
       "      <th>Modello</th>\n",
       "      <th>Potenza_Motore</th>\n",
       "      <th>Giorni_Di_Vita</th>\n",
       "      <th>Kilometri</th>\n",
       "      <th>Vecchi_Propietari</th>\n",
       "      <th>Latitudine</th>\n",
       "      <th>Longitudine</th>\n",
       "      <th>Prezzo</th>\n",
       "    </tr>\n",
       "  </thead>\n",
       "  <tbody>\n",
       "    <tr>\n",
       "      <th>0</th>\n",
       "      <td>lounge</td>\n",
       "      <td>51</td>\n",
       "      <td>882</td>\n",
       "      <td>25000</td>\n",
       "      <td>1</td>\n",
       "      <td>44.907242</td>\n",
       "      <td>8.611560</td>\n",
       "      <td>8900</td>\n",
       "    </tr>\n",
       "    <tr>\n",
       "      <th>1</th>\n",
       "      <td>pop</td>\n",
       "      <td>51</td>\n",
       "      <td>1186</td>\n",
       "      <td>32500</td>\n",
       "      <td>1</td>\n",
       "      <td>45.666359</td>\n",
       "      <td>12.241890</td>\n",
       "      <td>8800</td>\n",
       "    </tr>\n",
       "    <tr>\n",
       "      <th>2</th>\n",
       "      <td>sport</td>\n",
       "      <td>74</td>\n",
       "      <td>4658</td>\n",
       "      <td>142228</td>\n",
       "      <td>1</td>\n",
       "      <td>45.503300</td>\n",
       "      <td>11.417840</td>\n",
       "      <td>4200</td>\n",
       "    </tr>\n",
       "    <tr>\n",
       "      <th>3</th>\n",
       "      <td>lounge</td>\n",
       "      <td>51</td>\n",
       "      <td>2739</td>\n",
       "      <td>160000</td>\n",
       "      <td>1</td>\n",
       "      <td>40.633171</td>\n",
       "      <td>17.634609</td>\n",
       "      <td>6000</td>\n",
       "    </tr>\n",
       "    <tr>\n",
       "      <th>4</th>\n",
       "      <td>pop</td>\n",
       "      <td>73</td>\n",
       "      <td>3074</td>\n",
       "      <td>106880</td>\n",
       "      <td>1</td>\n",
       "      <td>41.903221</td>\n",
       "      <td>12.495650</td>\n",
       "      <td>5700</td>\n",
       "    </tr>\n",
       "    <tr>\n",
       "      <th>...</th>\n",
       "      <td>...</td>\n",
       "      <td>...</td>\n",
       "      <td>...</td>\n",
       "      <td>...</td>\n",
       "      <td>...</td>\n",
       "      <td>...</td>\n",
       "      <td>...</td>\n",
       "      <td>...</td>\n",
       "    </tr>\n",
       "    <tr>\n",
       "      <th>1533</th>\n",
       "      <td>sport</td>\n",
       "      <td>51</td>\n",
       "      <td>3712</td>\n",
       "      <td>115280</td>\n",
       "      <td>1</td>\n",
       "      <td>45.069679</td>\n",
       "      <td>7.704920</td>\n",
       "      <td>5200</td>\n",
       "    </tr>\n",
       "    <tr>\n",
       "      <th>1534</th>\n",
       "      <td>lounge</td>\n",
       "      <td>74</td>\n",
       "      <td>3835</td>\n",
       "      <td>112000</td>\n",
       "      <td>1</td>\n",
       "      <td>45.845692</td>\n",
       "      <td>8.666870</td>\n",
       "      <td>4600</td>\n",
       "    </tr>\n",
       "    <tr>\n",
       "      <th>1535</th>\n",
       "      <td>pop</td>\n",
       "      <td>51</td>\n",
       "      <td>2223</td>\n",
       "      <td>60457</td>\n",
       "      <td>1</td>\n",
       "      <td>45.481541</td>\n",
       "      <td>9.413480</td>\n",
       "      <td>7500</td>\n",
       "    </tr>\n",
       "    <tr>\n",
       "      <th>1536</th>\n",
       "      <td>lounge</td>\n",
       "      <td>51</td>\n",
       "      <td>2557</td>\n",
       "      <td>80750</td>\n",
       "      <td>1</td>\n",
       "      <td>45.000702</td>\n",
       "      <td>7.682270</td>\n",
       "      <td>5990</td>\n",
       "    </tr>\n",
       "    <tr>\n",
       "      <th>1537</th>\n",
       "      <td>pop</td>\n",
       "      <td>51</td>\n",
       "      <td>1766</td>\n",
       "      <td>54276</td>\n",
       "      <td>1</td>\n",
       "      <td>40.323410</td>\n",
       "      <td>17.568270</td>\n",
       "      <td>7900</td>\n",
       "    </tr>\n",
       "  </tbody>\n",
       "</table>\n",
       "<p>1538 rows × 8 columns</p>\n",
       "</div>"
      ],
      "text/plain": [
       "     Modello  Potenza_Motore  Giorni_Di_Vita  Kilometri  Vecchi_Propietari  \\\n",
       "0     lounge              51             882      25000                  1   \n",
       "1        pop              51            1186      32500                  1   \n",
       "2      sport              74            4658     142228                  1   \n",
       "3     lounge              51            2739     160000                  1   \n",
       "4        pop              73            3074     106880                  1   \n",
       "...      ...             ...             ...        ...                ...   \n",
       "1533   sport              51            3712     115280                  1   \n",
       "1534  lounge              74            3835     112000                  1   \n",
       "1535     pop              51            2223      60457                  1   \n",
       "1536  lounge              51            2557      80750                  1   \n",
       "1537     pop              51            1766      54276                  1   \n",
       "\n",
       "      Latitudine  Longitudine  Prezzo  \n",
       "0      44.907242     8.611560    8900  \n",
       "1      45.666359    12.241890    8800  \n",
       "2      45.503300    11.417840    4200  \n",
       "3      40.633171    17.634609    6000  \n",
       "4      41.903221    12.495650    5700  \n",
       "...          ...          ...     ...  \n",
       "1533   45.069679     7.704920    5200  \n",
       "1534   45.845692     8.666870    4600  \n",
       "1535   45.481541     9.413480    7500  \n",
       "1536   45.000702     7.682270    5990  \n",
       "1537   40.323410    17.568270    7900  \n",
       "\n",
       "[1538 rows x 8 columns]"
      ]
     },
     "execution_count": 6,
     "metadata": {},
     "output_type": "execute_result"
    }
   ],
   "source": [
    "data.columns = \"Modello Potenza_Motore Giorni_Di_Vita Kilometri Vecchi_Propietari Latitudine Longitudine Prezzo\".split()\n",
    "\n",
    "data"
   ]
  },
  {
   "cell_type": "markdown",
   "id": "122fec8a",
   "metadata": {},
   "source": [
    "Notiamo che nel dataframe non è presente una colonna utilizzabile come indice, perciò vado a crearne una che identifichi univocamente ogni record\n"
   ]
  },
  {
   "cell_type": "code",
   "execution_count": 7,
   "id": "db1a16ea",
   "metadata": {},
   "outputs": [
    {
     "data": {
      "text/html": [
       "<div>\n",
       "<style scoped>\n",
       "    .dataframe tbody tr th:only-of-type {\n",
       "        vertical-align: middle;\n",
       "    }\n",
       "\n",
       "    .dataframe tbody tr th {\n",
       "        vertical-align: top;\n",
       "    }\n",
       "\n",
       "    .dataframe thead th {\n",
       "        text-align: right;\n",
       "    }\n",
       "</style>\n",
       "<table border=\"1\" class=\"dataframe\">\n",
       "  <thead>\n",
       "    <tr style=\"text-align: right;\">\n",
       "      <th></th>\n",
       "      <th>Modello</th>\n",
       "      <th>Potenza_Motore</th>\n",
       "      <th>Giorni_Di_Vita</th>\n",
       "      <th>Kilometri</th>\n",
       "      <th>Vecchi_Propietari</th>\n",
       "      <th>Latitudine</th>\n",
       "      <th>Longitudine</th>\n",
       "      <th>Prezzo</th>\n",
       "    </tr>\n",
       "    <tr>\n",
       "      <th>Id</th>\n",
       "      <th></th>\n",
       "      <th></th>\n",
       "      <th></th>\n",
       "      <th></th>\n",
       "      <th></th>\n",
       "      <th></th>\n",
       "      <th></th>\n",
       "      <th></th>\n",
       "    </tr>\n",
       "  </thead>\n",
       "  <tbody>\n",
       "    <tr>\n",
       "      <th>0</th>\n",
       "      <td>lounge</td>\n",
       "      <td>51</td>\n",
       "      <td>882</td>\n",
       "      <td>25000</td>\n",
       "      <td>1</td>\n",
       "      <td>44.907242</td>\n",
       "      <td>8.611560</td>\n",
       "      <td>8900</td>\n",
       "    </tr>\n",
       "    <tr>\n",
       "      <th>1</th>\n",
       "      <td>pop</td>\n",
       "      <td>51</td>\n",
       "      <td>1186</td>\n",
       "      <td>32500</td>\n",
       "      <td>1</td>\n",
       "      <td>45.666359</td>\n",
       "      <td>12.241890</td>\n",
       "      <td>8800</td>\n",
       "    </tr>\n",
       "    <tr>\n",
       "      <th>2</th>\n",
       "      <td>sport</td>\n",
       "      <td>74</td>\n",
       "      <td>4658</td>\n",
       "      <td>142228</td>\n",
       "      <td>1</td>\n",
       "      <td>45.503300</td>\n",
       "      <td>11.417840</td>\n",
       "      <td>4200</td>\n",
       "    </tr>\n",
       "    <tr>\n",
       "      <th>3</th>\n",
       "      <td>lounge</td>\n",
       "      <td>51</td>\n",
       "      <td>2739</td>\n",
       "      <td>160000</td>\n",
       "      <td>1</td>\n",
       "      <td>40.633171</td>\n",
       "      <td>17.634609</td>\n",
       "      <td>6000</td>\n",
       "    </tr>\n",
       "    <tr>\n",
       "      <th>4</th>\n",
       "      <td>pop</td>\n",
       "      <td>73</td>\n",
       "      <td>3074</td>\n",
       "      <td>106880</td>\n",
       "      <td>1</td>\n",
       "      <td>41.903221</td>\n",
       "      <td>12.495650</td>\n",
       "      <td>5700</td>\n",
       "    </tr>\n",
       "  </tbody>\n",
       "</table>\n",
       "</div>"
      ],
      "text/plain": [
       "   Modello  Potenza_Motore  Giorni_Di_Vita  Kilometri  Vecchi_Propietari  \\\n",
       "Id                                                                         \n",
       "0   lounge              51             882      25000                  1   \n",
       "1      pop              51            1186      32500                  1   \n",
       "2    sport              74            4658     142228                  1   \n",
       "3   lounge              51            2739     160000                  1   \n",
       "4      pop              73            3074     106880                  1   \n",
       "\n",
       "    Latitudine  Longitudine  Prezzo  \n",
       "Id                                   \n",
       "0    44.907242     8.611560    8900  \n",
       "1    45.666359    12.241890    8800  \n",
       "2    45.503300    11.417840    4200  \n",
       "3    40.633171    17.634609    6000  \n",
       "4    41.903221    12.495650    5700  "
      ]
     },
     "execution_count": 7,
     "metadata": {},
     "output_type": "execute_result"
    }
   ],
   "source": [
    "data.insert(0, 'Id', range(0, len(data)))\n",
    "data.set_index(\"Id\", inplace=True)\n",
    "data.head(5)"
   ]
  },
  {
   "cell_type": "markdown",
   "id": "255b4520",
   "metadata": {},
   "source": [
    "Proseguiamo controllando la presenza di valori NaN."
   ]
  },
  {
   "cell_type": "code",
   "execution_count": 8,
   "id": "437ef837",
   "metadata": {},
   "outputs": [
    {
     "data": {
      "text/plain": [
       "Modello              0\n",
       "Potenza_Motore       0\n",
       "Giorni_Di_Vita       0\n",
       "Kilometri            0\n",
       "Vecchi_Propietari    0\n",
       "Latitudine           0\n",
       "Longitudine          0\n",
       "Prezzo               0\n",
       "dtype: int64"
      ]
     },
     "execution_count": 8,
     "metadata": {},
     "output_type": "execute_result"
    }
   ],
   "source": [
    "data.isna().sum()"
   ]
  },
  {
   "cell_type": "markdown",
   "id": "79be00bb",
   "metadata": {},
   "source": [
    "Non vi sono oggetti NaN, quindi possiamo analizzare la struttura del dataset."
   ]
  },
  {
   "cell_type": "code",
   "execution_count": 9,
   "id": "44446195",
   "metadata": {},
   "outputs": [
    {
     "name": "stdout",
     "output_type": "stream",
     "text": [
      "<class 'pandas.core.frame.DataFrame'>\n",
      "Int64Index: 1538 entries, 0 to 1537\n",
      "Data columns (total 8 columns):\n",
      " #   Column             Non-Null Count  Dtype  \n",
      "---  ------             --------------  -----  \n",
      " 0   Modello            1538 non-null   object \n",
      " 1   Potenza_Motore     1538 non-null   int64  \n",
      " 2   Giorni_Di_Vita     1538 non-null   int64  \n",
      " 3   Kilometri          1538 non-null   int64  \n",
      " 4   Vecchi_Propietari  1538 non-null   int64  \n",
      " 5   Latitudine         1538 non-null   float64\n",
      " 6   Longitudine        1538 non-null   float64\n",
      " 7   Prezzo             1538 non-null   int64  \n",
      "dtypes: float64(2), int64(5), object(1)\n",
      "memory usage: 108.1+ KB\n"
     ]
    }
   ],
   "source": [
    "data.info()"
   ]
  },
  {
   "cell_type": "markdown",
   "id": "6f540f84",
   "metadata": {},
   "source": [
    "Notiamo che abbiamo un tipo *object* per cui eseguiamo una one hot encoding, eliminando la colonna *model* e aggiungendo n colonne dove n sono i modelli presenti nel nostro dataset."
   ]
  },
  {
   "cell_type": "code",
   "execution_count": 10,
   "id": "6614628e",
   "metadata": {},
   "outputs": [],
   "source": [
    "categorical = ['Modello']\n",
    "\n",
    "data = pd.get_dummies(data, columns=categorical, prefix=categorical)"
   ]
  },
  {
   "cell_type": "markdown",
   "id": "b7365fd1",
   "metadata": {},
   "source": [
    "Ora possiamo osservare come per ogni macchina (riga) troviamo 1 nel modello corrispondente e 0 negli altri."
   ]
  },
  {
   "cell_type": "code",
   "execution_count": 11,
   "id": "e7ad68e7",
   "metadata": {
    "scrolled": true
   },
   "outputs": [
    {
     "data": {
      "text/html": [
       "<div>\n",
       "<style scoped>\n",
       "    .dataframe tbody tr th:only-of-type {\n",
       "        vertical-align: middle;\n",
       "    }\n",
       "\n",
       "    .dataframe tbody tr th {\n",
       "        vertical-align: top;\n",
       "    }\n",
       "\n",
       "    .dataframe thead th {\n",
       "        text-align: right;\n",
       "    }\n",
       "</style>\n",
       "<table border=\"1\" class=\"dataframe\">\n",
       "  <thead>\n",
       "    <tr style=\"text-align: right;\">\n",
       "      <th></th>\n",
       "      <th>Potenza_Motore</th>\n",
       "      <th>Giorni_Di_Vita</th>\n",
       "      <th>Kilometri</th>\n",
       "      <th>Vecchi_Propietari</th>\n",
       "      <th>Latitudine</th>\n",
       "      <th>Longitudine</th>\n",
       "      <th>Prezzo</th>\n",
       "      <th>Modello_lounge</th>\n",
       "      <th>Modello_pop</th>\n",
       "      <th>Modello_sport</th>\n",
       "    </tr>\n",
       "    <tr>\n",
       "      <th>Id</th>\n",
       "      <th></th>\n",
       "      <th></th>\n",
       "      <th></th>\n",
       "      <th></th>\n",
       "      <th></th>\n",
       "      <th></th>\n",
       "      <th></th>\n",
       "      <th></th>\n",
       "      <th></th>\n",
       "      <th></th>\n",
       "    </tr>\n",
       "  </thead>\n",
       "  <tbody>\n",
       "    <tr>\n",
       "      <th>0</th>\n",
       "      <td>51</td>\n",
       "      <td>882</td>\n",
       "      <td>25000</td>\n",
       "      <td>1</td>\n",
       "      <td>44.907242</td>\n",
       "      <td>8.611560</td>\n",
       "      <td>8900</td>\n",
       "      <td>1</td>\n",
       "      <td>0</td>\n",
       "      <td>0</td>\n",
       "    </tr>\n",
       "    <tr>\n",
       "      <th>1</th>\n",
       "      <td>51</td>\n",
       "      <td>1186</td>\n",
       "      <td>32500</td>\n",
       "      <td>1</td>\n",
       "      <td>45.666359</td>\n",
       "      <td>12.241890</td>\n",
       "      <td>8800</td>\n",
       "      <td>0</td>\n",
       "      <td>1</td>\n",
       "      <td>0</td>\n",
       "    </tr>\n",
       "    <tr>\n",
       "      <th>2</th>\n",
       "      <td>74</td>\n",
       "      <td>4658</td>\n",
       "      <td>142228</td>\n",
       "      <td>1</td>\n",
       "      <td>45.503300</td>\n",
       "      <td>11.417840</td>\n",
       "      <td>4200</td>\n",
       "      <td>0</td>\n",
       "      <td>0</td>\n",
       "      <td>1</td>\n",
       "    </tr>\n",
       "    <tr>\n",
       "      <th>3</th>\n",
       "      <td>51</td>\n",
       "      <td>2739</td>\n",
       "      <td>160000</td>\n",
       "      <td>1</td>\n",
       "      <td>40.633171</td>\n",
       "      <td>17.634609</td>\n",
       "      <td>6000</td>\n",
       "      <td>1</td>\n",
       "      <td>0</td>\n",
       "      <td>0</td>\n",
       "    </tr>\n",
       "    <tr>\n",
       "      <th>4</th>\n",
       "      <td>73</td>\n",
       "      <td>3074</td>\n",
       "      <td>106880</td>\n",
       "      <td>1</td>\n",
       "      <td>41.903221</td>\n",
       "      <td>12.495650</td>\n",
       "      <td>5700</td>\n",
       "      <td>0</td>\n",
       "      <td>1</td>\n",
       "      <td>0</td>\n",
       "    </tr>\n",
       "  </tbody>\n",
       "</table>\n",
       "</div>"
      ],
      "text/plain": [
       "    Potenza_Motore  Giorni_Di_Vita  Kilometri  Vecchi_Propietari  Latitudine  \\\n",
       "Id                                                                             \n",
       "0               51             882      25000                  1   44.907242   \n",
       "1               51            1186      32500                  1   45.666359   \n",
       "2               74            4658     142228                  1   45.503300   \n",
       "3               51            2739     160000                  1   40.633171   \n",
       "4               73            3074     106880                  1   41.903221   \n",
       "\n",
       "    Longitudine  Prezzo  Modello_lounge  Modello_pop  Modello_sport  \n",
       "Id                                                                   \n",
       "0      8.611560    8900               1            0              0  \n",
       "1     12.241890    8800               0            1              0  \n",
       "2     11.417840    4200               0            0              1  \n",
       "3     17.634609    6000               1            0              0  \n",
       "4     12.495650    5700               0            1              0  "
      ]
     },
     "execution_count": 11,
     "metadata": {},
     "output_type": "execute_result"
    }
   ],
   "source": [
    "data.head()"
   ]
  },
  {
   "cell_type": "markdown",
   "id": "1a43c6dd",
   "metadata": {},
   "source": [
    "## Comprensione delle feature\n",
    "\n",
    "Per capire meglio cosa rappresentano, quindi, le colonne della tabella andiamo ad analizzarle una ad una:\n",
    "\n",
    "- **Id**: id assegnato da noi\n",
    "- **Potenza_Motore**: potenza del motore in KW\n",
    "- **Giorni_Di_Vita**: giorni di vita della macchina\n",
    "- **Kilometri**: kilometri percorsi\n",
    "- **Vecchi_Propietari**: numero di proprietari precedenti\n",
    "- **Latitudine**: latitudine del venditore\n",
    "- **Longitudine**: longitudine del venditore\n",
    "- **Modello_lounge**: 1- si tratta di un modello lounge 0- NON si tratta di un modello lounge\n",
    "- **Modello_pop**: 1- si tratta di un modello lounge 0- NON si tratta di un modello lounge\n",
    "- **Modello_sport**: 1- si tratta di un modello lounge 0- NON si tratta di un modello lounge\n",
    "\n",
    "Variabile da predire:\n",
    "- **Prezzo**: prezzo di vendita della macchina"
   ]
  },
  {
   "cell_type": "markdown",
   "id": "a1fa52e7",
   "metadata": {},
   "source": [
    "## Esplorazione delle singole feature\n",
    "\n",
    "Ora che il set di dati è caricato e modificato correttamente possiamo procedere con l'esplorazione delle singole feature.\n",
    "Per cominciare utilizziamo il comando *describe* che fornisce, per ogni colonna, informazioni come il conteggio degli elementi, i valori minimo e massimo, la media e la deviazione standard, i percentili di distribuzione."
   ]
  },
  {
   "cell_type": "code",
   "execution_count": 12,
   "id": "f0e0b6ca",
   "metadata": {},
   "outputs": [
    {
     "data": {
      "text/html": [
       "<div>\n",
       "<style scoped>\n",
       "    .dataframe tbody tr th:only-of-type {\n",
       "        vertical-align: middle;\n",
       "    }\n",
       "\n",
       "    .dataframe tbody tr th {\n",
       "        vertical-align: top;\n",
       "    }\n",
       "\n",
       "    .dataframe thead th {\n",
       "        text-align: right;\n",
       "    }\n",
       "</style>\n",
       "<table border=\"1\" class=\"dataframe\">\n",
       "  <thead>\n",
       "    <tr style=\"text-align: right;\">\n",
       "      <th></th>\n",
       "      <th>Potenza_Motore</th>\n",
       "      <th>Giorni_Di_Vita</th>\n",
       "      <th>Kilometri</th>\n",
       "      <th>Vecchi_Propietari</th>\n",
       "      <th>Latitudine</th>\n",
       "      <th>Longitudine</th>\n",
       "      <th>Prezzo</th>\n",
       "      <th>Modello_lounge</th>\n",
       "      <th>Modello_pop</th>\n",
       "      <th>Modello_sport</th>\n",
       "    </tr>\n",
       "  </thead>\n",
       "  <tbody>\n",
       "    <tr>\n",
       "      <th>count</th>\n",
       "      <td>1538.000000</td>\n",
       "      <td>1538.000000</td>\n",
       "      <td>1538.000000</td>\n",
       "      <td>1538.000000</td>\n",
       "      <td>1538.000000</td>\n",
       "      <td>1538.000000</td>\n",
       "      <td>1538.000000</td>\n",
       "      <td>1538.000000</td>\n",
       "      <td>1538.000000</td>\n",
       "      <td>1538.000000</td>\n",
       "    </tr>\n",
       "    <tr>\n",
       "      <th>mean</th>\n",
       "      <td>51.904421</td>\n",
       "      <td>1650.980494</td>\n",
       "      <td>53396.011704</td>\n",
       "      <td>1.123537</td>\n",
       "      <td>43.541361</td>\n",
       "      <td>11.563428</td>\n",
       "      <td>8576.003901</td>\n",
       "      <td>0.711313</td>\n",
       "      <td>0.232770</td>\n",
       "      <td>0.055917</td>\n",
       "    </tr>\n",
       "    <tr>\n",
       "      <th>std</th>\n",
       "      <td>3.988023</td>\n",
       "      <td>1289.522278</td>\n",
       "      <td>40046.830723</td>\n",
       "      <td>0.416423</td>\n",
       "      <td>2.133518</td>\n",
       "      <td>2.328190</td>\n",
       "      <td>1939.958641</td>\n",
       "      <td>0.453299</td>\n",
       "      <td>0.422734</td>\n",
       "      <td>0.229836</td>\n",
       "    </tr>\n",
       "    <tr>\n",
       "      <th>min</th>\n",
       "      <td>51.000000</td>\n",
       "      <td>366.000000</td>\n",
       "      <td>1232.000000</td>\n",
       "      <td>1.000000</td>\n",
       "      <td>36.855839</td>\n",
       "      <td>7.245400</td>\n",
       "      <td>2500.000000</td>\n",
       "      <td>0.000000</td>\n",
       "      <td>0.000000</td>\n",
       "      <td>0.000000</td>\n",
       "    </tr>\n",
       "    <tr>\n",
       "      <th>25%</th>\n",
       "      <td>51.000000</td>\n",
       "      <td>670.000000</td>\n",
       "      <td>20006.250000</td>\n",
       "      <td>1.000000</td>\n",
       "      <td>41.802990</td>\n",
       "      <td>9.505090</td>\n",
       "      <td>7122.500000</td>\n",
       "      <td>0.000000</td>\n",
       "      <td>0.000000</td>\n",
       "      <td>0.000000</td>\n",
       "    </tr>\n",
       "    <tr>\n",
       "      <th>50%</th>\n",
       "      <td>51.000000</td>\n",
       "      <td>1035.000000</td>\n",
       "      <td>39031.000000</td>\n",
       "      <td>1.000000</td>\n",
       "      <td>44.394096</td>\n",
       "      <td>11.869260</td>\n",
       "      <td>9000.000000</td>\n",
       "      <td>1.000000</td>\n",
       "      <td>0.000000</td>\n",
       "      <td>0.000000</td>\n",
       "    </tr>\n",
       "    <tr>\n",
       "      <th>75%</th>\n",
       "      <td>51.000000</td>\n",
       "      <td>2616.000000</td>\n",
       "      <td>79667.750000</td>\n",
       "      <td>1.000000</td>\n",
       "      <td>45.467960</td>\n",
       "      <td>12.769040</td>\n",
       "      <td>10000.000000</td>\n",
       "      <td>1.000000</td>\n",
       "      <td>0.000000</td>\n",
       "      <td>0.000000</td>\n",
       "    </tr>\n",
       "    <tr>\n",
       "      <th>max</th>\n",
       "      <td>77.000000</td>\n",
       "      <td>4658.000000</td>\n",
       "      <td>235000.000000</td>\n",
       "      <td>4.000000</td>\n",
       "      <td>46.795612</td>\n",
       "      <td>18.365520</td>\n",
       "      <td>11100.000000</td>\n",
       "      <td>1.000000</td>\n",
       "      <td>1.000000</td>\n",
       "      <td>1.000000</td>\n",
       "    </tr>\n",
       "  </tbody>\n",
       "</table>\n",
       "</div>"
      ],
      "text/plain": [
       "       Potenza_Motore  Giorni_Di_Vita      Kilometri  Vecchi_Propietari  \\\n",
       "count     1538.000000     1538.000000    1538.000000        1538.000000   \n",
       "mean        51.904421     1650.980494   53396.011704           1.123537   \n",
       "std          3.988023     1289.522278   40046.830723           0.416423   \n",
       "min         51.000000      366.000000    1232.000000           1.000000   \n",
       "25%         51.000000      670.000000   20006.250000           1.000000   \n",
       "50%         51.000000     1035.000000   39031.000000           1.000000   \n",
       "75%         51.000000     2616.000000   79667.750000           1.000000   \n",
       "max         77.000000     4658.000000  235000.000000           4.000000   \n",
       "\n",
       "        Latitudine  Longitudine        Prezzo  Modello_lounge  Modello_pop  \\\n",
       "count  1538.000000  1538.000000   1538.000000     1538.000000  1538.000000   \n",
       "mean     43.541361    11.563428   8576.003901        0.711313     0.232770   \n",
       "std       2.133518     2.328190   1939.958641        0.453299     0.422734   \n",
       "min      36.855839     7.245400   2500.000000        0.000000     0.000000   \n",
       "25%      41.802990     9.505090   7122.500000        0.000000     0.000000   \n",
       "50%      44.394096    11.869260   9000.000000        1.000000     0.000000   \n",
       "75%      45.467960    12.769040  10000.000000        1.000000     0.000000   \n",
       "max      46.795612    18.365520  11100.000000        1.000000     1.000000   \n",
       "\n",
       "       Modello_sport  \n",
       "count    1538.000000  \n",
       "mean        0.055917  \n",
       "std         0.229836  \n",
       "min         0.000000  \n",
       "25%         0.000000  \n",
       "50%         0.000000  \n",
       "75%         0.000000  \n",
       "max         1.000000  "
      ]
     },
     "execution_count": 12,
     "metadata": {},
     "output_type": "execute_result"
    }
   ],
   "source": [
    "data.describe()"
   ]
  },
  {
   "cell_type": "code",
   "execution_count": 13,
   "id": "17c2bcf2",
   "metadata": {},
   "outputs": [
    {
     "data": {
      "image/png": "[encoded data removed]",
      "text/plain": [
       "<Figure size 1440x936 with 4 Axes>"
      ]
     },
     "metadata": {
      "needs_background": "light"
     },
     "output_type": "display_data"
    }
   ],
   "source": [
    "plt.figure(figsize=(20,13))\n",
    "\n",
    "plt.subplot(2,2,1)\n",
    "sb.histplot(x=\"Potenza_Motore\", data=data);\n",
    "\n",
    "plt.subplot(2,2,2)\n",
    "sb.histplot(x=\"Kilometri\", data=data);\n",
    "\n",
    "plt.subplot(2,2,3)\n",
    "sb.histplot(x=\"Giorni_Di_Vita\", data=data);\n",
    "\n",
    "plt.subplot(2,2,4)\n",
    "sb.histplot(x=\"Vecchi_Propietari\", data=data);"
   ]
  },
  {
   "cell_type": "markdown",
   "id": "6aa558b2",
   "metadata": {},
   "source": [
    "Da questi istogrammi deduciamo che La maggior parte dei veicoli:\n",
    "* Hanno una potenza di 50KW\n",
    "* Hanno un kilometraggio compreso tra 0 e 50000km\n",
    "* Hanno meno di 1000 giorni di vita\n",
    "* La maggior parte delle auto ha avuto un solo proprietario"
   ]
  },
  {
   "cell_type": "code",
   "execution_count": 14,
   "id": "677dc64a",
   "metadata": {},
   "outputs": [
    {
     "data": {
      "image/png": "[encoded data removed]",
      "text/plain": [
       "<Figure size 1440x936 with 2 Axes>"
      ]
     },
     "metadata": {
      "needs_background": "light"
     },
     "output_type": "display_data"
    }
   ],
   "source": [
    "plt.figure(figsize=(20,13))\n",
    "\n",
    "plt.subplot(2,2,1)\n",
    "sb.histplot(x=\"Latitudine\", data=data);\n",
    "\n",
    "plt.subplot(2,2,2)\n",
    "sb.histplot(x=\"Longitudine\", data=data);"
   ]
  },
  {
   "cell_type": "markdown",
   "id": "fdbb3eec",
   "metadata": {},
   "source": [
    "Da questi due isogrammi relativi a latitudine e longitudine capiamo che:\n",
    "* La maggior parte delle auto appartiene ad un venditore che si trova ad una latitudine di circa 45 (capiremo successivamente che una latitudine superiore a 42 indica che ci si trova al Nord)\n",
    "* La maggior parte delle auto appartiene ad un venditore che si trova ad una longitudine di circa 13"
   ]
  },
  {
   "cell_type": "code",
   "execution_count": 15,
   "id": "ef915c15",
   "metadata": {
    "scrolled": false
   },
   "outputs": [
    {
     "data": {
      "image/png": "[encoded data removed]",
      "text/plain": [
       "<Figure size 1440x936 with 3 Axes>"
      ]
     },
     "metadata": {
      "needs_background": "light"
     },
     "output_type": "display_data"
    }
   ],
   "source": [
    "plt.figure(figsize=(20,13))\n",
    "\n",
    "plt.subplot(2,2,1)\n",
    "sb.countplot(x=\"Modello_lounge\", data=data);\n",
    "\n",
    "plt.subplot(2,2,2)\n",
    "sb.countplot(x=\"Modello_pop\", data=data);\n",
    "\n",
    "plt.subplot(2,2,3)\n",
    "sb.countplot(x=\"Modello_sport\", data=data);"
   ]
  },
  {
   "cell_type": "markdown",
   "id": "a7b18c88",
   "metadata": {},
   "source": [
    "Vediamo ora tre istogrammi relativi ai tre diversi modelli delle auto. Quello che si evince è:\n",
    "* Il modello lounge è quello maggiormente posseduto dai venditori\n",
    "* Il modello sport è quello meno posseduto dai venditori"
   ]
  },
  {
   "cell_type": "markdown",
   "id": "d1aceef9",
   "metadata": {},
   "source": [
    "## Esplorazione delle relazioni tra le feature\n",
    "\n",
    "Procediamo ora con l'analisi delle possibili relazioni tra le diverse feature."
   ]
  },
  {
   "cell_type": "code",
   "execution_count": 16,
   "id": "ba0c66a4",
   "metadata": {
    "scrolled": false
   },
   "outputs": [
    {
     "data": {
      "text/html": [
       "<div>\n",
       "<style scoped>\n",
       "    .dataframe tbody tr th:only-of-type {\n",
       "        vertical-align: middle;\n",
       "    }\n",
       "\n",
       "    .dataframe tbody tr th {\n",
       "        vertical-align: top;\n",
       "    }\n",
       "\n",
       "    .dataframe thead th {\n",
       "        text-align: right;\n",
       "    }\n",
       "</style>\n",
       "<table border=\"1\" class=\"dataframe\">\n",
       "  <thead>\n",
       "    <tr style=\"text-align: right;\">\n",
       "      <th></th>\n",
       "      <th>Potenza_Motore</th>\n",
       "      <th>Giorni_Di_Vita</th>\n",
       "      <th>Kilometri</th>\n",
       "      <th>Vecchi_Propietari</th>\n",
       "      <th>Latitudine</th>\n",
       "      <th>Longitudine</th>\n",
       "      <th>Prezzo</th>\n",
       "      <th>Modello_lounge</th>\n",
       "      <th>Modello_pop</th>\n",
       "      <th>Modello_sport</th>\n",
       "    </tr>\n",
       "  </thead>\n",
       "  <tbody>\n",
       "    <tr>\n",
       "      <th>Potenza_Motore</th>\n",
       "      <td>1.000000</td>\n",
       "      <td>0.319190</td>\n",
       "      <td>0.285495</td>\n",
       "      <td>-0.005030</td>\n",
       "      <td>0.005721</td>\n",
       "      <td>-0.005032</td>\n",
       "      <td>-0.277235</td>\n",
       "      <td>-0.133321</td>\n",
       "      <td>0.024783</td>\n",
       "      <td>0.217362</td>\n",
       "    </tr>\n",
       "    <tr>\n",
       "      <th>Giorni_Di_Vita</th>\n",
       "      <td>0.319190</td>\n",
       "      <td>1.000000</td>\n",
       "      <td>0.833890</td>\n",
       "      <td>0.075775</td>\n",
       "      <td>0.062982</td>\n",
       "      <td>-0.042667</td>\n",
       "      <td>-0.893328</td>\n",
       "      <td>-0.259863</td>\n",
       "      <td>0.108327</td>\n",
       "      <td>0.313276</td>\n",
       "    </tr>\n",
       "    <tr>\n",
       "      <th>Kilometri</th>\n",
       "      <td>0.285495</td>\n",
       "      <td>0.833890</td>\n",
       "      <td>1.000000</td>\n",
       "      <td>0.097539</td>\n",
       "      <td>0.035519</td>\n",
       "      <td>0.004839</td>\n",
       "      <td>-0.859373</td>\n",
       "      <td>-0.255746</td>\n",
       "      <td>0.109024</td>\n",
       "      <td>0.303874</td>\n",
       "    </tr>\n",
       "    <tr>\n",
       "      <th>Vecchi_Propietari</th>\n",
       "      <td>-0.005030</td>\n",
       "      <td>0.075775</td>\n",
       "      <td>0.097539</td>\n",
       "      <td>1.000000</td>\n",
       "      <td>0.001697</td>\n",
       "      <td>-0.026836</td>\n",
       "      <td>-0.076274</td>\n",
       "      <td>-0.024643</td>\n",
       "      <td>-0.019316</td>\n",
       "      <td>0.084129</td>\n",
       "    </tr>\n",
       "    <tr>\n",
       "      <th>Latitudine</th>\n",
       "      <td>0.005721</td>\n",
       "      <td>0.062982</td>\n",
       "      <td>0.035519</td>\n",
       "      <td>0.001697</td>\n",
       "      <td>1.000000</td>\n",
       "      <td>-0.766646</td>\n",
       "      <td>-0.011733</td>\n",
       "      <td>-0.042641</td>\n",
       "      <td>0.029706</td>\n",
       "      <td>0.029463</td>\n",
       "    </tr>\n",
       "    <tr>\n",
       "      <th>Longitudine</th>\n",
       "      <td>-0.005032</td>\n",
       "      <td>-0.042667</td>\n",
       "      <td>0.004839</td>\n",
       "      <td>-0.026836</td>\n",
       "      <td>-0.766646</td>\n",
       "      <td>1.000000</td>\n",
       "      <td>-0.003541</td>\n",
       "      <td>0.010208</td>\n",
       "      <td>-0.003740</td>\n",
       "      <td>-0.013253</td>\n",
       "    </tr>\n",
       "    <tr>\n",
       "      <th>Prezzo</th>\n",
       "      <td>-0.277235</td>\n",
       "      <td>-0.893328</td>\n",
       "      <td>-0.859373</td>\n",
       "      <td>-0.076274</td>\n",
       "      <td>-0.011733</td>\n",
       "      <td>-0.003541</td>\n",
       "      <td>1.000000</td>\n",
       "      <td>0.302299</td>\n",
       "      <td>-0.167190</td>\n",
       "      <td>-0.288706</td>\n",
       "    </tr>\n",
       "    <tr>\n",
       "      <th>Modello_lounge</th>\n",
       "      <td>-0.133321</td>\n",
       "      <td>-0.259863</td>\n",
       "      <td>-0.255746</td>\n",
       "      <td>-0.024643</td>\n",
       "      <td>-0.042641</td>\n",
       "      <td>0.010208</td>\n",
       "      <td>0.302299</td>\n",
       "      <td>1.000000</td>\n",
       "      <td>-0.864605</td>\n",
       "      <td>-0.382017</td>\n",
       "    </tr>\n",
       "    <tr>\n",
       "      <th>Modello_pop</th>\n",
       "      <td>0.024783</td>\n",
       "      <td>0.108327</td>\n",
       "      <td>0.109024</td>\n",
       "      <td>-0.019316</td>\n",
       "      <td>0.029706</td>\n",
       "      <td>-0.003740</td>\n",
       "      <td>-0.167190</td>\n",
       "      <td>-0.864605</td>\n",
       "      <td>1.000000</td>\n",
       "      <td>-0.134050</td>\n",
       "    </tr>\n",
       "    <tr>\n",
       "      <th>Modello_sport</th>\n",
       "      <td>0.217362</td>\n",
       "      <td>0.313276</td>\n",
       "      <td>0.303874</td>\n",
       "      <td>0.084129</td>\n",
       "      <td>0.029463</td>\n",
       "      <td>-0.013253</td>\n",
       "      <td>-0.288706</td>\n",
       "      <td>-0.382017</td>\n",
       "      <td>-0.134050</td>\n",
       "      <td>1.000000</td>\n",
       "    </tr>\n",
       "  </tbody>\n",
       "</table>\n",
       "</div>"
      ],
      "text/plain": [
       "                   Potenza_Motore  Giorni_Di_Vita  Kilometri  \\\n",
       "Potenza_Motore           1.000000        0.319190   0.285495   \n",
       "Giorni_Di_Vita           0.319190        1.000000   0.833890   \n",
       "Kilometri                0.285495        0.833890   1.000000   \n",
       "Vecchi_Propietari       -0.005030        0.075775   0.097539   \n",
       "Latitudine               0.005721        0.062982   0.035519   \n",
       "Longitudine             -0.005032       -0.042667   0.004839   \n",
       "Prezzo                  -0.277235       -0.893328  -0.859373   \n",
       "Modello_lounge          -0.133321       -0.259863  -0.255746   \n",
       "Modello_pop              0.024783        0.108327   0.109024   \n",
       "Modello_sport            0.217362        0.313276   0.303874   \n",
       "\n",
       "                   Vecchi_Propietari  Latitudine  Longitudine    Prezzo  \\\n",
       "Potenza_Motore             -0.005030    0.005721    -0.005032 -0.277235   \n",
       "Giorni_Di_Vita              0.075775    0.062982    -0.042667 -0.893328   \n",
       "Kilometri                   0.097539    0.035519     0.004839 -0.859373   \n",
       "Vecchi_Propietari           1.000000    0.001697    -0.026836 -0.076274   \n",
       "Latitudine                  0.001697    1.000000    -0.766646 -0.011733   \n",
       "Longitudine                -0.026836   -0.766646     1.000000 -0.003541   \n",
       "Prezzo                     -0.076274   -0.011733    -0.003541  1.000000   \n",
       "Modello_lounge             -0.024643   -0.042641     0.010208  0.302299   \n",
       "Modello_pop                -0.019316    0.029706    -0.003740 -0.167190   \n",
       "Modello_sport               0.084129    0.029463    -0.013253 -0.288706   \n",
       "\n",
       "                   Modello_lounge  Modello_pop  Modello_sport  \n",
       "Potenza_Motore          -0.133321     0.024783       0.217362  \n",
       "Giorni_Di_Vita          -0.259863     0.108327       0.313276  \n",
       "Kilometri               -0.255746     0.109024       0.303874  \n",
       "Vecchi_Propietari       -0.024643    -0.019316       0.084129  \n",
       "Latitudine              -0.042641     0.029706       0.029463  \n",
       "Longitudine              0.010208    -0.003740      -0.013253  \n",
       "Prezzo                   0.302299    -0.167190      -0.288706  \n",
       "Modello_lounge           1.000000    -0.864605      -0.382017  \n",
       "Modello_pop             -0.864605     1.000000      -0.134050  \n",
       "Modello_sport           -0.382017    -0.134050       1.000000  "
      ]
     },
     "execution_count": 16,
     "metadata": {},
     "output_type": "execute_result"
    }
   ],
   "source": [
    "data.corr(method='pearson')"
   ]
  },
  {
   "cell_type": "markdown",
   "id": "583a2b1d",
   "metadata": {},
   "source": [
    "Proviamo ora a cercare di capire dove la differenza di latitudine, riferita alla posizione dei venditori, (distinguendola quindi tra Nord e Sud) ci mostra risultati ed informazioni interessanti.\n",
    "\n",
    "\n"
   ]
  },
  {
   "cell_type": "markdown",
   "id": "5aa6398a",
   "metadata": {},
   "source": [
    "Stabiliamo le latitudine minima e massima"
   ]
  },
  {
   "cell_type": "code",
   "execution_count": 17,
   "id": "aad1b3c6",
   "metadata": {
    "scrolled": true
   },
   "outputs": [
    {
     "name": "stdout",
     "output_type": "stream",
     "text": [
      "46.79561233520508 36.855838775634766\n"
     ]
    }
   ],
   "source": [
    "print(data[\"Latitudine\"].max(), data[\"Latitudine\"].min())"
   ]
  },
  {
   "cell_type": "markdown",
   "id": "2368e205",
   "metadata": {},
   "source": [
    "Mostriamo poi gli intervalli delle latitudini in modo da poter capire quali confini dare a Nord e Sud"
   ]
  },
  {
   "cell_type": "code",
   "execution_count": 18,
   "id": "32558da3",
   "metadata": {},
   "outputs": [
    {
     "data": {
      "image/png": "[encoded data removed]",
      "text/plain": [
       "<Figure size 1440x720 with 1 Axes>"
      ]
     },
     "metadata": {
      "needs_background": "light"
     },
     "output_type": "display_data"
    }
   ],
   "source": [
    "plt.figure(figsize=(20,10))\n",
    "\n",
    "plt.subplot(4,2,1)\n",
    "sb.histplot(x=\"Latitudine\", data=data);"
   ]
  },
  {
   "cell_type": "markdown",
   "id": "31120a1a",
   "metadata": {},
   "source": [
    "La latitudine di Roma corrisponde a 42, perciò sara esattamente la metà con cui stabilire poi nord e sud"
   ]
  },
  {
   "cell_type": "code",
   "execution_count": 19,
   "id": "d0effac3",
   "metadata": {},
   "outputs": [],
   "source": [
    "nord = data[\"Latitudine\"] > 42"
   ]
  },
  {
   "cell_type": "code",
   "execution_count": 20,
   "id": "1d21a00b",
   "metadata": {},
   "outputs": [],
   "source": [
    "dati_nord = data[data[\"Latitudine\"] > 42]\n",
    "dati_sud = data[data[\"Latitudine\"] <= 42]"
   ]
  },
  {
   "cell_type": "markdown",
   "id": "fe16f252",
   "metadata": {},
   "source": [
    "### Prezzo - kilometri (nord e sud)\n",
    "\n",
    "Osserviamo l'andamento del prezzo tra nord e sud"
   ]
  },
  {
   "cell_type": "code",
   "execution_count": 21,
   "id": "a6ae40e9",
   "metadata": {
    "scrolled": true
   },
   "outputs": [
    {
     "data": {
      "image/png": "[encoded data removed]",
      "text/plain": [
       "<Figure size 1440x936 with 2 Axes>"
      ]
     },
     "metadata": {
      "needs_background": "light"
     },
     "output_type": "display_data"
    }
   ],
   "source": [
    "plt.figure(figsize=(20,13))\n",
    "\n",
    "plt.subplot(2,2,1)\n",
    "sb.histplot(x=\"Prezzo\", data=dati_nord);\n",
    "\n",
    "plt.subplot(2,2,2)\n",
    "sb.histplot(x=\"Prezzo\", data=dati_sud);"
   ]
  },
  {
   "cell_type": "markdown",
   "id": "6e63795d",
   "metadata": {},
   "source": [
    "Notiamo che i prezzi appartengono ad un numero totale di macchine molto simile tra nord e sud. Andiamo ora a vedere la relazione tra prezzo e kilometri."
   ]
  },
  {
   "cell_type": "markdown",
   "id": "8369f6f2",
   "metadata": {},
   "source": [
    "### Prezzo - kilometri (nord e sud)\n",
    "\n",
    "Osserviamo la differenza di relazione tra prezzo e giorni di vita nei veicoli appartenenti a propietari del Nord ed appartenti a propietari del Sud"
   ]
  },
  {
   "cell_type": "code",
   "execution_count": 22,
   "id": "52c76d08",
   "metadata": {},
   "outputs": [
    {
     "data": {
      "image/png": "[encoded data removed]",
      "text/plain": [
       "<Figure size 432x288 with 1 Axes>"
      ]
     },
     "metadata": {
      "needs_background": "light"
     },
     "output_type": "display_data"
    }
   ],
   "source": [
    "dati_sud.plot.scatter(\"Prezzo\", \"Kilometri\", s=7, c=\"blue\");"
   ]
  },
  {
   "cell_type": "code",
   "execution_count": 23,
   "id": "b80f184e",
   "metadata": {},
   "outputs": [
    {
     "data": {
      "image/png": "[encoded data removed]",
      "text/plain": [
       "<Figure size 432x288 with 1 Axes>"
      ]
     },
     "metadata": {
      "needs_background": "light"
     },
     "output_type": "display_data"
    }
   ],
   "source": [
    "dati_nord.plot.scatter(\"Prezzo\", \"Kilometri\", s=7, c=\"blue\");"
   ]
  },
  {
   "cell_type": "code",
   "execution_count": 24,
   "id": "2c2f7a42",
   "metadata": {},
   "outputs": [
    {
     "name": "stdout",
     "output_type": "stream",
     "text": [
      "nord: 0.15471044076890908 , sud: 0.1711916218979022\n"
     ]
    }
   ],
   "source": [
    "print(\"nord:\", dati_nord[\"Prezzo\"].sum() / dati_nord[\"Kilometri\"].sum(), \", sud:\", dati_sud[\"Prezzo\"].sum() / dati_sud[\"Kilometri\"].sum())\n",
    "\n",
    "\n"
   ]
  },
  {
   "cell_type": "markdown",
   "id": "9c481236",
   "metadata": {},
   "source": [
    "Notiamo che, ad esempio, nelle grandezze prezzo e giorni_di_vita non il rapporto tra le curve dei due grafici e tra le due medie rimane molto simile. Andiamo ora però ad analizzare il rapporto tra prezzo e kilometri nei due intervalli di latitudine."
   ]
  },
  {
   "cell_type": "markdown",
   "id": "fa336ed9",
   "metadata": {},
   "source": [
    "### Prezzo - giorni di vita (nord e sud)\n",
    "\n"
   ]
  },
  {
   "cell_type": "code",
   "execution_count": 25,
   "id": "d7b6b5eb",
   "metadata": {},
   "outputs": [
    {
     "data": {
      "image/png": "[encoded data removed]",
      "text/plain": [
       "<Figure size 432x288 with 1 Axes>"
      ]
     },
     "metadata": {
      "needs_background": "light"
     },
     "output_type": "display_data"
    }
   ],
   "source": [
    "dati_sud.plot.scatter(\"Prezzo\", \"Giorni_Di_Vita\", s=7, c=\"blue\");"
   ]
  },
  {
   "cell_type": "code",
   "execution_count": 26,
   "id": "3f2626d6",
   "metadata": {},
   "outputs": [
    {
     "data": {
      "image/png": "[encoded data removed]",
      "text/plain": [
       "<Figure size 432x288 with 1 Axes>"
      ]
     },
     "metadata": {
      "needs_background": "light"
     },
     "output_type": "display_data"
    }
   ],
   "source": [
    "dati_nord.plot.scatter(\"Prezzo\", \"Giorni_Di_Vita\", s=7, c=\"blue\");"
   ]
  },
  {
   "cell_type": "code",
   "execution_count": 27,
   "id": "0d670957",
   "metadata": {
    "scrolled": false
   },
   "outputs": [
    {
     "name": "stdout",
     "output_type": "stream",
     "text": [
      "nord: 4.914040848294976 , sud: 5.723815339410149\n"
     ]
    }
   ],
   "source": [
    "print(\"nord:\", dati_nord[\"Prezzo\"].sum() / dati_nord[\"Giorni_Di_Vita\"].sum(), \", sud:\", dati_sud[\"Prezzo\"].sum() / dati_sud[\"Giorni_Di_Vita\"].sum())\n",
    "\n"
   ]
  },
  {
   "cell_type": "markdown",
   "id": "1a3eb754",
   "metadata": {},
   "source": [
    "Qui notiamo come, nonostante le curve rimangano molto simili, abbiamo una distanza notevole tra i due valori delle medie."
   ]
  },
  {
   "cell_type": "markdown",
   "id": "823481fd",
   "metadata": {},
   "source": [
    "## Analisi dei modelli"
   ]
  },
  {
   "cell_type": "code",
   "execution_count": 28,
   "id": "5cde29dc",
   "metadata": {},
   "outputs": [],
   "source": [
    "X = data.drop(columns=['Prezzo'])\n",
    "y = data[\"Prezzo\"]\n",
    "\n",
    "X_train,X_val,y_train,y_val = train_test_split(X, y, train_size=0.7)"
   ]
  },
  {
   "cell_type": "markdown",
   "id": "afc3d9f2",
   "metadata": {},
   "source": [
    "### Calcoli delle regressioni"
   ]
  },
  {
   "cell_type": "code",
   "execution_count": 29,
   "id": "3c43c16e",
   "metadata": {
    "scrolled": true
   },
   "outputs": [],
   "source": [
    "#Linear Regression\n",
    "lrm = LinearRegression(normalize=True)\n",
    "lrm.fit(X_train, y_train)\n",
    "y_pred = lrm.predict(X_val)\n",
    "\n",
    "\n",
    "\n",
    "#Polynomial Regression\n",
    "from sklearn.pipeline import Pipeline\n",
    "from sklearn.preprocessing import PolynomialFeatures\n",
    "prm = Pipeline([\n",
    "                (\"poly\",\n",
    "                 PolynomialFeatures(degree=2, include_bias=False)),\n",
    "                (\"linreg\",LinearRegression(normalize=True))\n",
    "])\n",
    "prm.fit(X_train, y_train)\n",
    "y_pred = prm.predict(X_val)\n",
    "\n",
    "\n",
    "\n",
    "#Polynomial regression Regression con Grid Search\n",
    "from sklearn.model_selection import GridSearchCV\n",
    "\n",
    "pipe = Pipeline(steps=[\n",
    "    ('poly', PolynomialFeatures(include_bias=False)),\n",
    "    ('model', LinearRegression(normalize=True)),\n",
    "])\n",
    "\n",
    "search = GridSearchCV(\n",
    "    estimator=pipe,\n",
    "    param_grid={'poly__degree': list(range(1,10))},\n",
    "    scoring='r2',\n",
    "    cv=5,\n",
    ")\n",
    "\n",
    "search.fit(X_train, y_train)\n",
    "\n",
    "\n",
    "\n",
    "#Ridge regression\n",
    "from sklearn.linear_model import Ridge\n",
    "model = Ridge()\n",
    "parameters = {'alpha': range(1,50)}\n",
    "Ridge_reg= GridSearchCV(model, parameters, scoring='r2',cv=5)\n",
    "Ridge_reg.fit(X_train, y_train)\n",
    "\n",
    "\n",
    "\n",
    "#Lasso regression\n",
    "from sklearn.linear_model import LassoCV\n",
    "reg = LassoCV(cv=5, random_state=0, normalize=True).fit(X_train, y_train)"
   ]
  },
  {
   "cell_type": "markdown",
   "id": "2c71c444",
   "metadata": {},
   "source": [
    "### Stampa dei risultati"
   ]
  },
  {
   "cell_type": "code",
   "execution_count": 30,
   "id": "61c14ff2",
   "metadata": {
    "scrolled": true
   },
   "outputs": [
    {
     "name": "stdout",
     "output_type": "stream",
     "text": [
      "\u001b[1mLinear Regression\u001b[0m\n",
      "Errore quadratico medio: 613123.8110808099\n",
      "Errore relativo: 7.84831210757761 %\n",
      "Indice R sui dati di addestramento: 0.8448596563952965\n",
      "Indice R sui dati di validazione: 0.8474278072031867\n",
      "\n",
      "\n",
      "---------------------------------------------------------------------------\n",
      "\n",
      "\n",
      "\u001b[1mPolynomial Regression\u001b[0m\n",
      "Errore quadratico medio: 613123.8110808099\n",
      "Errore relativo: 7.84831210757761 %\n",
      "Indice R quadro sui dati di addestramento: 0.8589794984315311\n",
      "Indice R quadro sui dati di validazione: 0.8356120619270119\n",
      "\n",
      "\n",
      "\u001b[1mPolynomial Regression con Grid Search\u001b[0m\n",
      "R quadro: 0.8356120619270119\n",
      "Grado del polinomio migliore: 2\n",
      "\n",
      "\n",
      "---------------------------------------------------------------------------\n",
      "\n",
      "\n",
      "\u001b[1mRidge Regression\u001b[0m\n",
      "Alpha migliore: 49\n",
      "R quadro: 0.8476474447254094\n",
      "\n",
      "\n",
      "---------------------------------------------------------------------------\n",
      "\n",
      "\n",
      "\u001b[1mLasso Regression\u001b[0m\n",
      "R quadro: 0.8497284593450879\n",
      "Alpha migliore: 0.8007855254802152\n",
      "Numero iterazioni: 24\n"
     ]
    }
   ],
   "source": [
    "print('\\033[1m' +\"Linear Regression\" + '\\033[0m')\n",
    "print(\"Errore quadratico medio: \" + str(np.mean((y_pred - y_val)**2)))\n",
    "print(\"Errore relativo: \"  + str(np.mean(np.abs(y_pred-y_val)/y_val)*100) + \" %\")\n",
    "print(\"Indice R sui dati di addestramento: \" + str(lrm.score(X_train, y_train)))\n",
    "print(\"Indice R sui dati di validazione: \" + str(lrm.score(X_val, y_val)))\n",
    "print(\"\\n\")\n",
    "print(\"---------------------------------------------------------------------------\")\n",
    "print(\"\\n\")\n",
    "print('\\033[1m' + \"Polynomial Regression\" + '\\033[0m');\n",
    "print(\"Errore quadratico medio: \" + str(np.mean((y_pred - y_val)**2)))\n",
    "print(\"Errore relativo: \"  + str(np.mean(np.abs(y_pred-y_val)/y_val)*100) + \" %\")\n",
    "print(\"Indice R quadro sui dati di addestramento: \" + str(prm.score(X_train, y_train)))\n",
    "print(\"Indice R quadro sui dati di validazione: \" + str(prm.score(X_val, y_val)))\n",
    "print(\"\\n\")\n",
    "print('\\033[1m'+ \"Polynomial Regression con Grid Search\" + '\\033[0m');\n",
    "print(\"R quadro: \" + str(search.score(X_val,y_val)))\n",
    "print(\"Grado del polinomio migliore: \" + str(search.best_params_[\"poly__degree\"]))\n",
    "print(\"\\n\")\n",
    "print(\"---------------------------------------------------------------------------\")\n",
    "print(\"\\n\")\n",
    "print('\\033[1m' + \"Ridge Regression\" + '\\033[0m' );\n",
    "print(\"Alpha migliore: \" + str(Ridge_reg.best_params_['alpha']))\n",
    "print(\"R quadro: \" + str(Ridge_reg.score(X_val, y_val)))\n",
    "print(\"\\n\")\n",
    "print(\"---------------------------------------------------------------------------\")\n",
    "print(\"\\n\")\n",
    "print('\\033[1m' + \"Lasso Regression\" + '\\033[0m' )\n",
    "print(\"R quadro: \" + str(reg.score(X_val, y_val)))\n",
    "print(\"Alpha migliore: \" + str(reg.alpha_))\n",
    "print(\"Numero iterazioni: \" + str(reg.n_iter_))\n",
    "\n"
   ]
  },
  {
   "cell_type": "markdown",
   "id": "28c151d3",
   "metadata": {},
   "source": [
    "Da questi valori stampati possiamo osservare che Linear Regression e Polynomial Regression hanno un errore relativo molto simile. Inoltre vedendo un indice R quadro rispettivamente di circa 0.84 per l'addestramento e di 0.86 per la validazione possiamo dire di avere una discreta precisione nei dati."
   ]
  },
  {
   "cell_type": "markdown",
   "id": "29156054",
   "metadata": {},
   "source": [
    "Proviamo ora a fare successivamente a migliorare il nostro indice R con Ridge Regression e Lasso Regression"
   ]
  },
  {
   "cell_type": "markdown",
   "id": "43b45a9e",
   "metadata": {},
   "source": [
    "Anche qui notiamo un valore di R quadro che ci indica che è presente una discreta precisione nei dati, anche se comunque non abbiamo acuto un significativo miglioramento."
   ]
  },
  {
   "cell_type": "markdown",
   "id": "87e0a7a7",
   "metadata": {},
   "source": [
    "### Coefficienti angolari"
   ]
  },
  {
   "cell_type": "code",
   "execution_count": 31,
   "id": "7ee9519d",
   "metadata": {},
   "outputs": [
    {
     "name": "stdout",
     "output_type": "stream",
     "text": [
      "\u001b[1mLinear Regression\u001b[0m\n",
      "Potenza_Motore -0.4077122434482652\n",
      "Giorni_Di_Vita -0.8686862529581116\n",
      "Kilometri -0.018386288441295126\n",
      "Vecchi_Propietari 29.83714669575452\n",
      "Latitudine 65.1023989313507\n",
      "Longitudine 28.616267437401508\n",
      "Modello_lounge 1.3158154141684382e+16\n",
      "Modello_pop 1.3158154141684084e+16\n",
      "Modello_sport 1.3158154141684388e+16\n",
      "\n",
      "\n",
      "---------------------------------------------------------------------------\n",
      "\n",
      "\n",
      "\u001b[1mPolynomial Regression\u001b[0m\n",
      "Potenza_Motore -4086727840734.986\n",
      "Giorni_Di_Vita -0.20239377549219859\n",
      "Kilometri -0.04320348269113718\n",
      "Vecchi_Propietari -1217.8518992040215\n",
      "Latitudine -2199.9936678653626\n",
      "Longitudine 88.30652246860662\n",
      "Modello_lounge -968.3603344707008\n",
      "Modello_pop 375.2483761633173\n",
      "Modello_sport 2423.8235813000897\n",
      "\n",
      "\n",
      "\u001b[1mPolynomial Regression con Grid Search\u001b[0m\n",
      "Potenza_Motore -4086727840734.986\n",
      "Giorni_Di_Vita -0.20239377549219859\n",
      "Kilometri -0.04320348269113718\n",
      "Vecchi_Propietari -1217.8518992040215\n",
      "Latitudine -2199.9936678653626\n",
      "Longitudine 88.30652246860662\n",
      "Modello_lounge -968.3603344707008\n",
      "Modello_pop 375.2483761633173\n",
      "Modello_sport 2423.8235813000897\n",
      "\n",
      "\n",
      "---------------------------------------------------------------------------\n",
      "\n",
      "\n",
      "\u001b[1mRidge Regression\u001b[0m\n",
      "Potenza_Motore -0.22118041266643623\n",
      "Giorni_Di_Vita -0.8662711065695013\n",
      "Kilometri -0.01844407392397883\n",
      "Vecchi_Propietari 25.400851852485964\n",
      "Latitudine 62.412142052824684\n",
      "Longitudine 27.279795656261367\n",
      "Modello_lounge 97.0792648468063\n",
      "Modello_pop -156.42366174330613\n",
      "Modello_sport 59.344396896502715\n",
      "\n",
      "\n",
      "---------------------------------------------------------------------------\n",
      "\n",
      "\n",
      "\u001b[1mLasso Regression\u001b[0m\n",
      "Potenza_Motore -0.0\n",
      "Giorni_Di_Vita -0.8583939251916676\n",
      "Kilometri -0.018012988015345014\n",
      "Vecchi_Propietari 0.0\n",
      "Latitudine 27.446511654232992\n",
      "Longitudine 0.0\n",
      "Modello_lounge 0.0\n",
      "Modello_pop -232.085399119416\n",
      "Modello_sport -0.0\n"
     ]
    }
   ],
   "source": [
    "print('\\033[1m' +\"Linear Regression\" + '\\033[0m')\n",
    "for c,p in zip(X.columns, lrm.coef_):\n",
    "    print(c,p)\n",
    "print(\"\\n\")\n",
    "print(\"---------------------------------------------------------------------------\")\n",
    "print(\"\\n\")\n",
    "print('\\033[1m' + \"Polynomial Regression\" + '\\033[0m');\n",
    "for c,p in zip(X.columns, prm.named_steps['linreg'].coef_):\n",
    "    print(c,p)\n",
    "print(\"\\n\")\n",
    "print('\\033[1m'+ \"Polynomial Regression con Grid Search\" + '\\033[0m');\n",
    "for c,p in zip(X.columns, search.best_estimator_.named_steps['model'].coef_):\n",
    "    print(c,p)\n",
    "print(\"\\n\")\n",
    "print(\"---------------------------------------------------------------------------\")\n",
    "print(\"\\n\")\n",
    "print('\\033[1m' + \"Ridge Regression\" + '\\033[0m' );\n",
    "for c,p in zip(X.columns, Ridge_reg.best_estimator_.coef_):\n",
    "    print(c,p)\n",
    "print(\"\\n\")\n",
    "print(\"---------------------------------------------------------------------------\")\n",
    "print(\"\\n\")\n",
    "print('\\033[1m' + \"Lasso Regression\" + '\\033[0m' )\n",
    "for c,p in zip(X.columns, reg.coef_):\n",
    "    print(c,p)"
   ]
  },
  {
   "cell_type": "markdown",
   "id": "64a4e750",
   "metadata": {},
   "source": [
    "Da questo elenco dei coefficienti angolari notiamo che:\n",
    "- In tutte le regressioni, ad eccezione della Lasso Regression, la longitudine è un parametro che influenza i dati in modo significativo;\n",
    "- La latitudine e i vecchi propietari nel caso della Polynomial Regression e Polynomial Regression con Grid Search, hanno una rapporto inversamente proporzionale con la variabile da determinare, ovvero il prezzo;\n",
    "- I modelli sport, avendo poche istanze, hanno un coefficiente con valore molto sproporzionato"
   ]
  },
  {
   "cell_type": "markdown",
   "id": "ccb1686d",
   "metadata": {},
   "source": [
    "## Conclusioni"
   ]
  },
  {
   "cell_type": "markdown",
   "id": "13f43f7e",
   "metadata": {},
   "source": [
    "Abbiamo costruito 4 modelli che vanno ad analizzare l'accuratezza. \n",
    "Tutti risultano avere un valore di R quadro molto simile, però andando più nello specifico notiamo che Polynomial regression ha un indice R quadro di validazione più preciso negli altri a livello di millesimi.\n",
    "\n",
    "Possiamo considerarci soddisfatti nell'avere un indice di correttezza R quadro di una discreta precisione che ci permette di predire con elevata precisione il prezzo di una macchina Fiat date diverse caratteristiche specifiche."
   ]
  }
 ],
 "metadata": {
  "kernelspec": {
   "display_name": "Python 3",
   "language": "python",
   "name": "python3"
  },
  "language_info": {
   "codemirror_mode": {
    "name": "ipython",
    "version": 3
   },
   "file_extension": ".py",
   "mimetype": "text/x-python",
   "name": "python",
   "nbconvert_exporter": "python",
   "pygments_lexer": "ipython3",
   "version": "3.8.8"
  }
 },
 "nbformat": 4,
 "nbformat_minor": 5
}
